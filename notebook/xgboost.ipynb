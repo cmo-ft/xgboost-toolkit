{
 "cells": [
  {
   "cell_type": "markdown",
   "metadata": {},
   "source": [
    "# Import Package"
   ]
  },
  {
   "cell_type": "code",
   "execution_count": 1,
   "metadata": {
    "collapsed": false
   },
   "outputs": [],
   "source": [
    "import uproot as ur\n",
    "import xgboost as xgb\n",
    "import pandas as pd\n",
    "import numpy as np\n",
    "import hyperopt as hopt\n",
    "import sklearn.metrics as skm\n",
    "import platform\n",
    "import os\n",
    "import sys\n",
    "import matplotlib.pyplot as plt\n",
    "import json\n",
    "\n",
    "\n",
    "data_path = '/home/cmo/jb_dataspell/multilepton/best_train/Output/'\n",
    "data_name = 'original_hist_'\n",
    "variables = ['FlavorCat', 'met_met', 'M_llljj', 'M_lll', 'HT', 'HT_jets', 'HT_lep', 'best_Z_Mll', 'M_l0l1', 'M_l0l2', 'M_l1l2', 'dR_l0l1', 'dR_l0l2', 'dR_l1l2', 'dR_l0j', 'dR_l1j', 'dR_l2j', 'M_l0j', 'M_l1j', 'M_l2j', 'minOSMll', 'minOSSFMll']\n"
   ]
  },
  {
   "cell_type": "markdown",
   "metadata": {
    "collapsed": false
   },
   "source": [
    "# Train"
   ]
  },
  {
   "cell_type": "code",
   "execution_count": 2,
   "metadata": {
    "collapsed": false
   },
   "outputs": [],
   "source": [
    "class TrainProcessor:\n",
    "    def __init__(\n",
    "            self,\n",
    "            ntuple: str,\n",
    "            out_dir: str,\n",
    "            k_fold: int = None,\n",
    "            fold: int = None,\n",
    "            svb_weight_ratio: float = 1,\n",
    "            variables: list = None,\n",
    "    ):\n",
    "        self.ntuple = ntuple\n",
    "        self.fold_name = f'fold_{fold}'\n",
    "        self.out_dir = os.path.join(out_dir, self.fold_name)\n",
    "        if not os.path.exists(self.out_dir):\n",
    "            os.makedirs(self.out_dir)\n",
    "\n",
    "        self.k_fold = k_fold\n",
    "        self.fold = fold\n",
    "        self.variables = variables\n",
    "        self.weight_signal = svb_weight_ratio\n",
    "        self.weight_bkg = 1\n",
    "\n",
    "\n",
    "    def train(self, hyper_parameters, if_save_result=True, verbose=1):\n",
    "        data_file = ur.open(self.ntuple)\n",
    "        sig_train = data_file[\"sig_train\"].arrays(library='pd')\n",
    "        sig_test = data_file[\"sig_test\"].arrays(library='pd')\n",
    "        bkg_train = data_file[\"bkg_train\"].arrays(library='pd')\n",
    "        bkg_test = data_file[\"bkg_test\"].arrays(library='pd')\n",
    "\n",
    "        df_train = pd.concat([sig_train, bkg_train])\n",
    "        self.dtrain = xgb.DMatrix(data=df_train[self.variables].to_numpy(),\n",
    "                             label=np.array( [[1]*len(sig_train) + [0]*len(bkg_train)] ),\n",
    "                              weight=np.concatenate([[self.weight_signal]*len(sig_train) + [self.weight_bkg]*len(bkg_train)])\n",
    "                             )\n",
    "\n",
    "        df_test = pd.concat([sig_test, bkg_test])\n",
    "        self.dtest = xgb.DMatrix(data=df_test[self.variables].to_numpy(),\n",
    "                                  label=np.array( [[1]*len(sig_test) + [0]*len(bkg_test)] ),\n",
    "                                 weight=np.concatenate([[self.weight_signal]*len(sig_test) + [self.weight_bkg]*len(bkg_test)])\n",
    "                                  )\n",
    "        # Learning task parameters\n",
    "        task_param = {\n",
    "            'num_boost_round': 300,\n",
    "            'early_stopping_rounds': 10,\n",
    "            'evals': [(self.dtrain, \"train\"), (self.dtest, \"eval\")],\n",
    "            'verbose_eval': False\n",
    "            # 'verbose_eval': 50 if debug else False,\n",
    "        }\n",
    "        bst = xgb.train(hyper_parameters, self.dtrain, **task_param)\n",
    "\n",
    "\n",
    "        # evaluation on test\n",
    "        train_preds = bst.predict(self.dtrain, iteration_range=(0, bst.best_iteration + 1))\n",
    "        test_preds = bst.predict(self.dtest, iteration_range=(0, bst.best_iteration + 1))\n",
    "\n",
    "        loss = bst.eval(self.dtest)\n",
    "        loss = float(loss.split(':')[1])\n",
    "\n",
    "        # save result\n",
    "        if if_save_result:\n",
    "\n",
    "            bst.save_model(os.path.join(self.out_dir, 'xgboost_model.json'))\n",
    "\n",
    "            with ur.recreate(os.path.join(self.out_dir, 'xgboost_output.root')) as f:\n",
    "                test_to_save = df_test.copy()\n",
    "                test_to_save['scores'] = test_preds\n",
    "                test_to_save['labels'] = self.dtest.get_label()\n",
    "                f[\"TestTree\"] = test_to_save\n",
    "\n",
    "                train_to_save = df_train.copy()\n",
    "                train_to_save['scores'] = train_preds\n",
    "                train_to_save['labels'] = self.dtrain.get_label()\n",
    "                f[\"TrainTree\"] = train_to_save\n",
    "\n",
    "            print(f\"===> wrote trainning result {self.out_dir}\\n\")\n",
    "        if verbose:\n",
    "            print(\"===> xgboost training is done!\\n\")\n",
    "        return loss, bst\n",
    "\n"
   ]
  },
  {
   "cell_type": "markdown",
   "metadata": {
    "collapsed": false
   },
   "source": [
    "# Hyper-opt"
   ]
  },
  {
   "cell_type": "code",
   "execution_count": 3,
   "metadata": {
    "collapsed": false
   },
   "outputs": [],
   "source": [
    "class HyperOptProcessor:\n",
    "    def __init__(self, config, svb_weight_ratio=1):\n",
    "        self.train_param = config['optimization']['hyper_parameters']\n",
    "\n",
    "        self.kfold = config['k_fold']\n",
    "        self.variables = config['training_parameters']['variables']\n",
    "        self.out_dir= config['output_path']\n",
    "\n",
    "        self.trainers = [ TrainProcessor(os.path.join(self.out_dir, f'fold_{k}', f'{data_name}{k}.root'),\n",
    "                                         self.out_dir, self.kfold, k, svb_weight_ratio=svb_weight_ratio, variables=self.variables ) for k in range(self.kfold)]\n",
    "\n",
    "    def opt(self, max_evals: int = 10):\n",
    "        def opt_train(args):\n",
    "            # specify parameters\n",
    "            train_param = {\n",
    "                \"tree_method\": \"gpu_hist\" if platform.system() != 'Darwin' else 'hist',\n",
    "                # \"tree_method\": \"hist\",\n",
    "                \"max_depth\": int(args['max_depth']),\n",
    "                \"eta\": float(args['eta']),\n",
    "                \"objective\": \"binary:logistic\",\n",
    "                'eval_metric': ['logloss'],\n",
    "            }\n",
    "            loss = 0\n",
    "            for trianer in self.trainers:\n",
    "                ls, _ = trianer.train(train_param, if_save_result=False, verbose=0)\n",
    "                loss += ls\n",
    "            return {'loss': loss, 'status': hopt.STATUS_OK}\n",
    "\n",
    "\n",
    "        space = {\n",
    "            'max_depth': hopt.hp.quniform(\"max_depth\", *self.train_param['max_depth']),\n",
    "            'eta': hopt.hp.uniform('eta', *self.train_param['eta']),\n",
    "        }\n",
    "\n",
    "        # minimize the objective over the space\n",
    "        trials = hopt.Trials()\n",
    "\n",
    "        self.best_hyperparams = hopt.fmin(fn=opt_train,\n",
    "                                space=space,\n",
    "                                algo=hopt.tpe.suggest,\n",
    "                                max_evals=max_evals,\n",
    "                                trials=trials)\n",
    "\n",
    "        print(\"The best hyper parameters are : \", \"\\n\")\n",
    "        print(self.best_hyperparams)\n",
    "\n",
    "        return trials, self.best_hyperparams\n",
    "\n",
    "    def train_all(self, args=None):\n",
    "        args = args if (args is not None) else self.best_hyperparams\n",
    "        train_param = {\n",
    "            \"tree_method\": \"gpu_hist\" if platform.system() != 'Darwin' else 'hist',\n",
    "            # \"tree_method\": \"hist\",\n",
    "            \"max_depth\": int(args['max_depth']),\n",
    "            \"eta\": float(args['eta']),\n",
    "            \"objective\": \"binary:logistic\",\n",
    "            'eval_metric': ['logloss'],\n",
    "        }\n",
    "\n",
    "\n",
    "        loss = 0\n",
    "        outfile_list = []\n",
    "        for k, trainer in enumerate(self.trainers):\n",
    "            trainer.out_dir = os.path.join(self.out_dir, f'fold_{k}')\n",
    "            ls, _ = trainer.train(train_param, if_save_result=True, verbose=1)\n",
    "            print(f'fold_{k} loss: {ls}')\n",
    "            loss += ls\n",
    "            outfile_list.append(os.path.join(trainer.out_dir, 'xgboost_output.root'))\n",
    "        print(f'total loss: {loss}')\n",
    "\n",
    "\n",
    "        merge_target = os.path.join(self.out_dir, 'eval/xgboost_output.root')\n",
    "        # Define the list of trees to concatenate\n",
    "        tree_names = [\"TestTree\", \"TrainTree\"]\n",
    "\n",
    "\n",
    "        # Loop over the input files and concatenate the TestTrees\n",
    "        test_trees = []\n",
    "        train_trees = []\n",
    "        files = [ur.open(file_name) for file_name in outfile_list]\n",
    "\n",
    "        with ur.recreate(merge_target) as output:\n",
    "            output[\"TestTree\"] = ur.concatenate([file['TestTree'] for file in files])\n",
    "            output[\"TrainTree\"] = ur.concatenate([file['TrainTree'] for file in files])\n",
    "\n",
    "\n",
    "\n",
    "\n",
    "\n",
    "\n"
   ]
  },
  {
   "cell_type": "code",
   "execution_count": 3,
   "metadata": {
    "collapsed": false
   },
   "outputs": [],
   "source": []
  },
  {
   "cell_type": "markdown",
   "metadata": {
    "collapsed": false
   },
   "source": [
    "# Evaluation"
   ]
  },
  {
   "cell_type": "code",
   "execution_count": 4,
   "metadata": {
    "collapsed": false
   },
   "outputs": [],
   "source": [
    "def eval_scores( in_data: str, out_d:str = './', do_plot: bool = True):\n",
    "    result = {\n",
    "        'auc': 0.,\n",
    "        'significance': 0.,\n",
    "        'mva_score': -999,\n",
    "    }\n",
    "    res = ur.open(in_data)\n",
    "\n",
    "    scores, labels, weight = res['TestTree'].arrays(['scores', 'labels', 'weight'], library='np').values()\n",
    "    train_scores, train_labels, train_weight = res['TrainTree'].arrays(['scores', 'labels', 'weight'], library='np').values()\n",
    "    \"\"\"\n",
    "    ROC Curve\n",
    "    \"\"\"\n",
    "    fpr, tpr, thresholds = skm.roc_curve(labels, scores, sample_weight=weight, pos_label=1)\n",
    "    # auc = skm.auc(fpr, tpr)\n",
    "    auc = np.trapz(tpr, fpr)\n",
    "\n",
    "    if do_plot:\n",
    "        mycolors = ['tab:blue', 'tab:green', 'tab:orange', 'tab:red']\n",
    "        mylinestyles = ['dashed', 'dashed', 'dashed', 'solid']\n",
    "        mylinewidth = [1.5, 1.5, 1.5, 2.5]\n",
    "        plots = (fpr, tpr, auc)\n",
    "        fig, ax = plt.subplots(1, 1, figsize=(8, 6), dpi=80)\n",
    "\n",
    "        plt.plot(\n",
    "            plots[0], plots[1],\n",
    "            label=f\"AUC = {plots[2]:.3f}\",\n",
    "            color=mycolors[0],\n",
    "            linestyle=mylinestyles[0],\n",
    "            linewidth=mylinewidth[0],\n",
    "        )\n",
    "\n",
    "        result['auc'] = plots[2]\n",
    "\n",
    "        plt.ylabel('Signal Eff.')\n",
    "        plt.xlabel('Background InEff.')\n",
    "        plt.legend(loc=4)\n",
    "        plt.show()\n",
    "        fig.savefig(os.path.join(out_d, 'roc.svg'), format='svg')\n",
    "\n",
    "    \"\"\"\n",
    "    Significance Curve\n",
    "    \"\"\"\n",
    "    sig_score = scores[np.where(labels==1)]\n",
    "    bkg_score = scores[np.where(labels==0)]\n",
    "    sig_weight, bkg_weight = np.ones(len(sig_score)), np.ones(len(bkg_score))\n",
    "    if weight is not None:\n",
    "        sig_weight = weight[np.where(labels==1)]\n",
    "        bkg_weight = weight[np.where(labels==0)]\n",
    "\n",
    "    bins = np.linspace(0, 1, num=200, endpoint=True)\n",
    "    hist_sig, _ = np.histogram(sig_score, bins=bins, weights=sig_weight)\n",
    "    hist_bkg, _ = np.histogram(bkg_score, bins=bins, weights=bkg_weight)\n",
    "    s = np.cumsum(hist_sig[::-1])[::-1]\n",
    "    b = np.cumsum(hist_bkg[::-1])[::-1]\n",
    "\n",
    "\n",
    "    sig_err = np.sqrt(np.histogram(sig_score, bins=bins, weights=sig_weight ** 2)[0])\n",
    "    bkg_err = np.sqrt(np.histogram(bkg_score, bins=bins, weights=bkg_weight ** 2)[0])\n",
    "    s_err = np.sqrt(np.cumsum(sig_err[::-1] ** 2)[::-1])\n",
    "    b_err = np.sqrt(np.cumsum(bkg_err[::-1] ** 2)[::-1])\n",
    "\n",
    "    significance = (s / np.sqrt(s + b))\n",
    "    significance[np.isnan(significance)] = 0\n",
    "\n",
    "    def sig_unc(s, b, ds, db):\n",
    "        t1 = ((np.sqrt(s + b) - s / (2 * np.sqrt(s + b))) / (s + b) * ds) ** 2\n",
    "        t2 = (-(s * 1. / (2 * np.sqrt(s + b)) / (s + b)) * db) ** 2\n",
    "        return np.sqrt(t1 + t2)\n",
    "\n",
    "    significance_err = sig_unc(s, b, s_err, b_err)\n",
    "    significance_err[np.isnan(significance_err)] = 0\n",
    "    significance_with_min_bkg = max([(y, x) for x, y in enumerate(significance) if b[x] > 1.0])\n",
    "\n",
    "    result['significance'] = significance_with_min_bkg[0]\n",
    "    result['significance_no_protect'] = max(significance)\n",
    "    result['mva_score'] = bins[1 + significance_with_min_bkg[1]]\n",
    "    result['mva_score_no_protect'] = bins[1 + np.argmax(significance)]\n",
    "\n",
    "\n",
    "    if do_plot:\n",
    "        fig, ax = plt.subplots(1, 1, figsize=(8, 6), dpi=80)\n",
    "        plt.plot(bins[1:], significance, color='#3776ab')\n",
    "        plt.fill_between(\n",
    "            bins[1:], significance - significance_err, significance + significance_err, alpha=0.35,\n",
    "            edgecolor='#3776ab', facecolor='#3776ab', hatch='///', linewidth=0, interpolate=True\n",
    "        )\n",
    "\n",
    "        plt.vlines(\n",
    "            x=result['mva_score'], ymin=0, ymax=result['significance'],\n",
    "            colors='purple',\n",
    "            label=f'max Sig. = {result[\"significance\"]:.3f} at {result[\"mva_score\"]:.2f}'\n",
    "        )\n",
    "\n",
    "        plt.ylabel('Significance')\n",
    "        plt.xlabel('MVA score')\n",
    "        plt.legend(loc=3)\n",
    "        plt.show()\n",
    "        fig.savefig(os.path.join(out_d, 'sig.svg'), format='svg')\n",
    "\n",
    "        \"\"\"\n",
    "        Train Test Histogram\n",
    "        \"\"\"\n",
    "        if do_plot:\n",
    "            fig, (ax1, ax2) = plt.subplots(\n",
    "                2, 1, figsize=(8, 10), dpi=80,\n",
    "                sharex=True, gridspec_kw={'height_ratios': [4, 1]}\n",
    "            )\n",
    "\n",
    "            bins = np.linspace(0, 1, num=25, endpoint=True)\n",
    "            bin_center = (bins[:-1] + bins[1:]) / 2.\n",
    "            bin_err = bins[1:] - bin_center\n",
    "            hist_style = dict(\n",
    "                bins=bins,\n",
    "                density=True, alpha=0.75, histtype='step', linewidth=2.5\n",
    "            )\n",
    "\n",
    "            # for test\n",
    "            bkg = bkg_score\n",
    "            sig = sig_score\n",
    "\n",
    "            hist_sig = np.histogram(sig, bins=bins, weights=sig_weight, density=True)[0]\n",
    "            hist_bkg = np.histogram(bkg, bins=bins, weights=bkg_weight, density=True)[0]\n",
    "            sf_s = np.sum(hist_sig) / np.sum(sig)\n",
    "            sf_b = np.sum(hist_bkg) / np.sum(bkg)\n",
    "            sig_err = np.sqrt(np.histogram(sig, bins=bins, weights=sig_weight ** 2)[0]) * sf_s\n",
    "            bkg_err = np.sqrt(np.histogram(bkg, bins=bins, weights=bkg_weight ** 2)[0]) * sf_b\n",
    "            ax1.errorbar(\n",
    "                bin_center, hist_sig, yerr=sig_err, xerr=bin_err, color='red', label='sig: test',\n",
    "                marker='.', alpha=0.75, elinewidth=2, markersize=10, ls='none')\n",
    "            ax1.errorbar(\n",
    "                bin_center, hist_bkg, yerr=bkg_err, xerr=bin_err, color='blue', label='bkg: test',\n",
    "                marker='.', alpha=0.75, elinewidth=2, markersize=10, ls='none')\n",
    "\n",
    "            # for train\n",
    "            if train_scores is not None:\n",
    "                train_bkg = np.where(train_labels==0)\n",
    "                bkg = train_scores[train_bkg]\n",
    "                bkg_weight = train_weight[train_bkg]\n",
    "\n",
    "                train_sig = np.where(train_labels==1)\n",
    "                sig_weight = train_weight[train_sig]\n",
    "                sig = train_scores[train_sig]\n",
    "\n",
    "                s, _, _ = ax1.hist(sig, weights=sig_weight, color='red', label='sig: train', **hist_style)\n",
    "                b, _, _ = ax1.hist(bkg, weights=bkg_weight, color='blue', label='bkg: train', **hist_style)\n",
    "                sf_s = np.sum(s) / np.sum(sig)\n",
    "                sf_b = np.sum(b) / np.sum(bkg)\n",
    "                s_err = np.sqrt(np.histogram(sig, bins=bins, weights=sig_weight ** 2)[0]) * sf_s\n",
    "                b_err = np.sqrt(np.histogram(bkg, bins=bins, weights=bkg_weight ** 2)[0]) * sf_b\n",
    "                ax1.fill_between(\n",
    "                    bin_center, s - s_err, s + s_err, alpha=0.5, facecolor='red', edgecolor='red',\n",
    "                    hatch='///', linewidth=0\n",
    "                )\n",
    "                ax1.fill_between(\n",
    "                    bin_center, b - b_err, b + b_err, alpha=0.5, facecolor='blue', edgecolor='blue',\n",
    "                    hatch='///', linewidth=0\n",
    "                )\n",
    "\n",
    "                from scipy import stats\n",
    "                ks_sig = stats.kstest(hist_sig, s)\n",
    "                ks_bkg = stats.kstest(hist_bkg, b)\n",
    "\n",
    "                print('signal: ', ks_sig)\n",
    "                print('background: ', ks_bkg)\n",
    "\n",
    "                def divide_unc(a, b, da, db):\n",
    "                    return np.sqrt((1. / b * da) ** 2 + (-(a / b ** 2) * db) ** 2)\n",
    "\n",
    "                ratio_s = hist_sig / s\n",
    "                ratio_b = hist_bkg / b\n",
    "                ratio_s_unc = divide_unc(hist_sig, s, sig_err, s_err)\n",
    "                ratio_b_unc = divide_unc(hist_bkg, b, bkg_err, b_err)\n",
    "                ratio_s[np.isnan(ratio_s)] = 0.0\n",
    "                ratio_b[np.isnan(ratio_b)] = 0.0\n",
    "                ratio_s_unc[np.isnan(ratio_s_unc)] = 0\n",
    "                ratio_b_unc[np.isnan(ratio_b_unc)] = 0\n",
    "\n",
    "                # ratio plot\n",
    "                ax2.errorbar(\n",
    "                    bin_center, ratio_s, yerr=ratio_s_unc, color='red', label='sig: test',\n",
    "                    marker='o', alpha=0.75, ls='none')\n",
    "                ax2.errorbar(\n",
    "                    bin_center, ratio_b, yerr=ratio_b_unc, color='blue', label='bkg: test',\n",
    "                    marker='o', alpha=0.75, ls='none')\n",
    "                ax2.set_ylim([0.75, 1.25])\n",
    "                ax2.axhline(\n",
    "                    xmin=-1.0, xmax=1.0, y=1.0,\n",
    "                    c='lightgrey',\n",
    "                    ls='--'\n",
    "                )\n",
    "                ax2.set_ylabel('test / train')\n",
    "\n",
    "            plt.xlabel('MVA score')\n",
    "            ax1.legend(loc=1)\n",
    "            plt.subplots_adjust(wspace=0, hspace=0.1)\n",
    "            plt.show()\n",
    "            fig.savefig(os.path.join(out_d, 'mva_hist.svg'), format='svg')\n",
    "\n",
    "            \"\"\"\n",
    "            Output JSON\n",
    "            \"\"\"\n",
    "            # Serializing json\n",
    "            json_object = json.dumps(result, indent=4)\n",
    "\n",
    "            # Writing to sample.json\n",
    "            with open(os.path.join(out_d, 'result.json'), \"w\") as outfile:\n",
    "                outfile.write(json_object)\n",
    "\n",
    "    return result\n",
    "\n",
    "\n",
    "# label = dataset['dtest'].get_label()\n",
    "# eval_scores(preds, label)"
   ]
  },
  {
   "cell_type": "code",
   "execution_count": 5,
   "metadata": {
    "collapsed": false
   },
   "outputs": [
    {
     "data": {
      "text/plain": [
       "(1, 100)"
      ]
     },
     "execution_count": 5,
     "metadata": {},
     "output_type": "execute_result"
    }
   ],
   "source": [
    "max([(0,100), (1,100)])"
   ]
  },
  {
   "cell_type": "markdown",
   "metadata": {
    "collapsed": false
   },
   "source": [
    "# Main Func"
   ]
  },
  {
   "cell_type": "code",
   "execution_count": 6,
   "metadata": {
    "collapsed": false
   },
   "outputs": [
    {
     "name": "stdout",
     "output_type": "stream",
     "text": [
      "100%|██████████| 100/100 [14:26<00:00,  8.67s/trial, best loss: 1.1071887883634122]\n",
      "The best hyper parameters are :  \n",
      "\n",
      "{'eta': 0.08307991874745715, 'max_depth': 5.0}\n"
     ]
    }
   ],
   "source": [
    "\n",
    "\n",
    "config = dict(\n",
    "    k_fold = 3,\n",
    "    output_path='xgboost_train/Output/',\n",
    "\n",
    "    training_parameters=dict(\n",
    "        variables=['FlavorCat', 'met_met', 'M_llljj', 'M_lll', 'HT', 'HT_jets', 'HT_lep', 'best_Z_Mll', 'M_l0l1', 'M_l0l2', 'M_l1l2', 'dR_l0l1', 'dR_l0l2', 'dR_l1l2', 'dR_l0j', 'dR_l1j', 'dR_l2j', 'M_l0j', 'M_l1j', 'M_l2j', 'minOSMll', 'minOSSFMll']\n",
    "    ),\n",
    "    optimization=dict(\n",
    "        hyper_parameters={\n",
    "            \"max_depth\": [2, 10, 1],\n",
    "            \"eta\": [0.05, 0.5],\n",
    "        }\n",
    "    )\n",
    ")\n",
    "optimizer = HyperOptProcessor(config, svb_weight_ratio=9)\n",
    "result, best_param = optimizer.opt(100)"
   ]
  },
  {
   "cell_type": "code",
   "execution_count": 8,
   "metadata": {
    "collapsed": false
   },
   "outputs": [
    {
     "name": "stdout",
     "output_type": "stream",
     "text": [
      "===> wrote trainning result xgboost_train/Output/fold_0\n",
      "\n",
      "===> xgboost training is done!\n",
      "\n",
      "fold_0 loss: 0.3701097230665643\n",
      "===> wrote trainning result xgboost_train/Output/fold_1\n",
      "\n",
      "===> xgboost training is done!\n",
      "\n",
      "fold_1 loss: 0.36730873408378956\n",
      "===> wrote trainning result xgboost_train/Output/fold_2\n",
      "\n",
      "===> xgboost training is done!\n",
      "\n",
      "fold_2 loss: 0.36977033121305836\n",
      "total loss: 1.1071887883634122\n"
     ]
    }
   ],
   "source": [
    "optimizer.train_all(best_param)"
   ]
  },
  {
   "cell_type": "code",
   "execution_count": 9,
   "metadata": {
    "collapsed": false
   },
   "outputs": [
    {
     "data": {
      "image/png": "[encoded data removed]",
      "text/plain": [
       "<Figure size 640x480 with 1 Axes>"
      ]
     },
     "metadata": {},
     "output_type": "display_data"
    },
    {
     "data": {
      "image/png": "[encoded data removed]",
      "text/plain": [
       "<Figure size 640x480 with 1 Axes>"
      ]
     },
     "metadata": {},
     "output_type": "display_data"
    },
    {
     "name": "stdout",
     "output_type": "stream",
     "text": [
      "signal:  KstestResult(statistic=0.16666666666666666, pvalue=0.9024001944012529)\n",
      "background:  KstestResult(statistic=0.08333333333333333, pvalue=0.9999994797375902)\n"
     ]
    },
    {
     "data": {
      "image/png": "[encoded data removed]",
      "text/plain": [
       "<Figure size 640x800 with 2 Axes>"
      ]
     },
     "metadata": {},
     "output_type": "display_data"
    },
    {
     "data": {
      "text/plain": [
       "{'auc': 0.9064045546772823,\n",
       " 'significance': 0.07732741390578102,\n",
       " 'mva_score': 0.9396984924623115,\n",
       " 'significance_no_protect': 0.07732741390578102,\n",
       " 'mva_score_no_protect': 0.9396984924623115}"
      ]
     },
     "execution_count": 9,
     "metadata": {},
     "output_type": "execute_result"
    }
   ],
   "source": [
    "# # Single Train\n",
    "# fold = 0\n",
    "# train_param = {\n",
    "#     \"tree_method\": \"gpu_hist\" if platform.system() != 'Darwin' else 'hist',\n",
    "#     # \"tree_method\": \"hist\",\n",
    "#     # \"max_depth\": 8,\n",
    "#     \"max_depth\": 7,\n",
    "#     # \"eta\": 0.1,\n",
    "#     \"eta\": 0.062151689630760516,\n",
    "#     \"objective\": \"binary:logistic\",\n",
    "#     'eval_metric': ['logloss'],\n",
    "# }\n",
    "# trainer = TrainProcessor(os.path.join(data_path, f'fold_{fold}', f'{data_name}{fold}.root'), 'xgboost_train/Output', 3, fold, variables=variables)\n",
    "# loss, bst = trainer.train(train_param, True)\n",
    "# print(f'loss: {loss}')\n",
    "eval_scores(f'xgboost_train/Output/eval/xgboost_output.root', out_d='xgboost_train/Output/eval/', do_plot=True)\n"
   ]
  },
  {
   "cell_type": "markdown",
   "metadata": {
    "collapsed": false
   },
   "source": [
    "# Dataset"
   ]
  },
  {
   "cell_type": "code",
   "execution_count": 8,
   "metadata": {
    "collapsed": false
   },
   "outputs": [],
   "source": [
    "def get_dataset(entry_start=0, entry_stop=None):\n",
    "    data_file = ur.open(os.path.join(data_path, 'fold_0', data_name))\n",
    "    in_feature = data_file[\"sig_train\"].keys()[2:]\n",
    "    print(f\"features: {in_feature}\")\n",
    "\n",
    "    entry_stop = entry_stop if entry_stop!=0 else data_file['sig_train'].num_entries\n",
    "\n",
    "    sig_train = dict(\n",
    "        data = np.stack(list(data_file[\"sig_train\"].arrays(in_feature, entry_start=entry_start, entry_stop=entry_stop, library='numpy').values()), axis=1),\n",
    "        weight = data_file[\"sig_train\"].arrays(\"weight\", entry_start=entry_start, entry_stop=entry_stop, library='numpy')['weight']\n",
    "    )\n",
    "    bkg_train = dict(\n",
    "        data = np.stack(list(data_file[\"bkg_train\"].arrays(in_feature, entry_start=entry_start, entry_stop=entry_stop, library='numpy').values()), axis=1),\n",
    "        weight = data_file[\"bkg_train\"].arrays(\"weight\", entry_start=entry_start, entry_stop=entry_stop, library='numpy')['weight']\n",
    "    )\n",
    "    sig_test = dict(\n",
    "        data = np.stack(list(data_file[\"sig_test\"].arrays(in_feature, entry_start=entry_start, entry_stop=entry_stop, library='numpy').values()), axis=1),\n",
    "        weight = data_file[\"sig_test\"].arrays(\"weight\", entry_start=entry_start, entry_stop=entry_stop, library='numpy')['weight']\n",
    "    )\n",
    "    bkg_test = dict(\n",
    "        data = np.stack(list(data_file[\"bkg_test\"].arrays(in_feature, entry_start=entry_start, entry_stop=entry_stop, library='numpy').values()), axis=1),\n",
    "        weight = data_file[\"bkg_test\"].arrays(\"weight\", entry_start=entry_start, entry_stop=entry_stop, library='numpy')['weight']\n",
    "    )\n",
    "\n",
    "\n",
    "    dataset = dict(\n",
    "        dtrain = xgb.DMatrix(data=np.concatenate([sig_train['data'], bkg_train['data']], axis=0),\n",
    "                             label=np.concatenate([np.ones(len(sig_train['data'])), np.zeros(len(bkg_train['data']))]),\n",
    "                             # weight=np.concatenate([sig_train['weight'], bkg_train['weight']], axis=0)\n",
    "                             ),\n",
    "        dtest = xgb.DMatrix(data=np.concatenate([sig_test['data'], bkg_test['data']], axis=0),\n",
    "                            label=np.concatenate([np.ones(len(sig_test['data'])), np.zeros(len(bkg_test['data']))]),\n",
    "                            # weight=np.concatenate([sig_test['weight'], bkg_test['weight']], axis=0)\n",
    "                            ),\n",
    "    )\n",
    "    return dataset, dict(sig_train=sig_train, bkg_train=bkg_train, sig_test=sig_test, bkg_test=bkg_test)"
   ]
  },
  {
   "cell_type": "code",
   "execution_count": 57,
   "metadata": {
    "collapsed": false
   },
   "outputs": [
    {
     "name": "stdout",
     "output_type": "stream",
     "text": [
      "features: ['FlavorCat', 'met_met', 'M_llljj', 'M_lll', 'HT', 'HT_jets', 'HT_lep', 'best_Z_Mll', 'M_l0l1', 'M_l0l2', 'M_l1l2', 'dR_l0l1', 'dR_l0l2', 'dR_l1l2', 'dR_l0j', 'dR_l1j', 'dR_l2j', 'M_l0j', 'M_l1j', 'M_l2j', 'minOSMll', 'minOSSFMll']\n"
     ]
    }
   ],
   "source": [
    "entry_start, entry_stop = 0, 1000\n",
    "dataset, all_datasets = get_dataset(entry_start, entry_stop)"
   ]
  },
  {
   "cell_type": "code",
   "execution_count": 63,
   "metadata": {
    "collapsed": false
   },
   "outputs": [],
   "source": []
  },
  {
   "cell_type": "markdown",
   "metadata": {
    "collapsed": false
   },
   "source": [
    "# Train and Opt Functions"
   ]
  },
  {
   "cell_type": "code",
   "execution_count": 23,
   "metadata": {
    "collapsed": false
   },
   "outputs": [],
   "source": [
    "def train_xgboost(dtrain: xgb.DMatrix = None, dtest: xgb.DMatrix = None, train_param=None, debug=False):\n",
    "    # Learning task parameters\n",
    "    task_param = {\n",
    "        'num_boost_round': 300,\n",
    "        'early_stopping_rounds': 10,\n",
    "        'evals': [(dtrain, \"train\"), (dtest, \"eval\")],\n",
    "        'verbose_eval': 50 if debug else False,\n",
    "    }\n",
    "    eval_results = {}\n",
    "    bst = xgb.train(train_param, dtrain, **task_param, evals_result=eval_results)\n",
    "\n",
    "    # evaluation on test\n",
    "    preds = bst.predict(dtest, iteration_range=(0, bst.best_iteration + 1))\n",
    "    return preds, bst, eval_results\n",
    "\n",
    "def opt_train(args):\n",
    "    # specify parameters\n",
    "    train_param = {\n",
    "        \"tree_method\": \"gpu_hist\" if platform.system() != 'Darwin' else 'hist',\n",
    "        # \"tree_method\": \"hist\",\n",
    "        \"max_depth\": int(args['max_depth']),\n",
    "        \"eta\": float(args['eta']),\n",
    "        \"objective\": \"binary:logistic\",\n",
    "        'eval_metric': ['logloss'],\n",
    "        # 'scale_pos_weight': args['weight_balance'],\n",
    "    }\n",
    "\n",
    "    total_eff, eff_dict, bst, bkg_cut = train_xgboost(train_param=train_param, **args['dataset'])\n",
    "\n",
    "    return {'loss': -total_eff, 'status': hopt.STATUS_OK, 'eff': eff_dict, 'best_model': bst, 'bkg_cut': bkg_cut}\n",
    "\n"
   ]
  },
  {
   "cell_type": "code",
   "execution_count": 24,
   "metadata": {
    "collapsed": false
   },
   "outputs": [
    {
     "ename": "NameError",
     "evalue": "name 'train_xgboost' is not defined",
     "output_type": "error",
     "traceback": [
      "\u001b[0;31m---------------------------------------------------------------------------\u001b[0m",
      "\u001b[0;31mNameError\u001b[0m                                 Traceback (most recent call last)",
      "Cell \u001b[0;32mIn[24], line 9\u001b[0m\n\u001b[1;32m      1\u001b[0m train_param \u001b[38;5;241m=\u001b[39m {\n\u001b[1;32m      2\u001b[0m     \u001b[38;5;124m\"\u001b[39m\u001b[38;5;124mtree_method\u001b[39m\u001b[38;5;124m\"\u001b[39m: \u001b[38;5;124m\"\u001b[39m\u001b[38;5;124mgpu_hist\u001b[39m\u001b[38;5;124m\"\u001b[39m \u001b[38;5;28;01mif\u001b[39;00m platform\u001b[38;5;241m.\u001b[39msystem() \u001b[38;5;241m!=\u001b[39m \u001b[38;5;124m'\u001b[39m\u001b[38;5;124mDarwin\u001b[39m\u001b[38;5;124m'\u001b[39m \u001b[38;5;28;01melse\u001b[39;00m \u001b[38;5;124m'\u001b[39m\u001b[38;5;124mhist\u001b[39m\u001b[38;5;124m'\u001b[39m,\n\u001b[1;32m      3\u001b[0m     \u001b[38;5;66;03m# \"tree_method\": \"hist\",\u001b[39;00m\n\u001b[0;32m   (...)\u001b[0m\n\u001b[1;32m      7\u001b[0m     \u001b[38;5;124m'\u001b[39m\u001b[38;5;124meval_metric\u001b[39m\u001b[38;5;124m'\u001b[39m: [\u001b[38;5;124m'\u001b[39m\u001b[38;5;124mlogloss\u001b[39m\u001b[38;5;124m'\u001b[39m],\n\u001b[1;32m      8\u001b[0m }\n\u001b[0;32m----> 9\u001b[0m preds, bst, eval_results \u001b[38;5;241m=\u001b[39m \u001b[43mtrain_xgboost\u001b[49m(\u001b[38;5;241m*\u001b[39m\u001b[38;5;241m*\u001b[39mdataset, train_param\u001b[38;5;241m=\u001b[39mtrain_param, debug\u001b[38;5;241m=\u001b[39m\u001b[38;5;28;01mTrue\u001b[39;00m)\n",
      "\u001b[0;31mNameError\u001b[0m: name 'train_xgboost' is not defined"
     ]
    }
   ],
   "source": [
    "train_param = {\n",
    "    \"tree_method\": \"gpu_hist\" if platform.system() != 'Darwin' else 'hist',\n",
    "    # \"tree_method\": \"hist\",\n",
    "    \"max_depth\": 8,\n",
    "    \"eta\": 0.1,\n",
    "    \"objective\": \"binary:logistic\",\n",
    "    'eval_metric': ['logloss'],\n",
    "}\n",
    "preds, bst, eval_results = train_xgboost(**dataset, train_param=train_param, debug=True)"
   ]
  },
  {
   "cell_type": "code",
   "execution_count": 61,
   "metadata": {
    "collapsed": false
   },
   "outputs": [
    {
     "ename": "AttributeError",
     "evalue": "'Booster' object has no attribute 'best_trial'",
     "output_type": "error",
     "traceback": [
      "\u001b[0;31m---------------------------------------------------------------------------\u001b[0m",
      "\u001b[0;31mAttributeError\u001b[0m                            Traceback (most recent call last)",
      "Cell \u001b[0;32mIn[61], line 1\u001b[0m\n\u001b[0;32m----> 1\u001b[0m \u001b[43mbst\u001b[49m\u001b[38;5;241;43m.\u001b[39;49m\u001b[43mbest_trial\u001b[49m\n",
      "\u001b[0;31mAttributeError\u001b[0m: 'Booster' object has no attribute 'best_trial'"
     ]
    }
   ],
   "source": [
    "bst.best_trial"
   ]
  },
  {
   "cell_type": "code",
   "execution_count": 63,
   "metadata": {
    "collapsed": false
   },
   "outputs": [
    {
     "data": {
      "image/png": "[encoded data removed]",
      "text/plain": [
       "<Figure size 640x480 with 1 Axes>"
      ]
     },
     "metadata": {},
     "output_type": "display_data"
    },
    {
     "name": "stderr",
     "output_type": "stream",
     "text": [
      "/tmp/ipykernel_343/494386886.py:61: RuntimeWarning: invalid value encountered in divide\n",
      "  significance = (s / np.sqrt(s + b))\n",
      "/tmp/ipykernel_343/494386886.py:65: RuntimeWarning: invalid value encountered in divide\n",
      "  t1 = ((np.sqrt(s + b) - s / (2 * np.sqrt(s + b))) / (s + b) * ds) ** 2\n",
      "/tmp/ipykernel_343/494386886.py:66: RuntimeWarning: invalid value encountered in divide\n",
      "  t2 = (-(s * 1. / (2 * np.sqrt(s + b)) / (s + b)) * db) ** 2\n"
     ]
    },
    {
     "data": {
      "image/png": "[encoded data removed]",
      "text/plain": [
       "<Figure size 640x480 with 1 Axes>"
      ]
     },
     "metadata": {},
     "output_type": "display_data"
    },
    {
     "data": {
      "text/plain": [
       "{'auc': 0.8204685,\n",
       " 'significance': 24.471889803567272,\n",
       " 'mva_score': 0.306532663316583,\n",
       " 'significance_no_protect': 24.471889803567272,\n",
       " 'mva_score_no_protect': 0.306532663316583}"
      ]
     },
     "execution_count": 63,
     "metadata": {},
     "output_type": "execute_result"
    }
   ],
   "source": [
    "def eval_scores(scores: np.array, labels: np.array, weight: np.array = None, do_plot: bool = True):\n",
    "    result = {\n",
    "        'auc': 0.,\n",
    "        'significance': 0.,\n",
    "        'mva_score': -999,\n",
    "    }\n",
    "    \"\"\"\n",
    "    ROC Curve\n",
    "    \"\"\"\n",
    "    fpr, tpr, thresholds = skm.roc_curve(labels, scores, sample_weight=weight, pos_label=1)\n",
    "    auc = skm.auc(fpr, tpr)\n",
    "\n",
    "    if do_plot:\n",
    "        mycolors = ['tab:blue', 'tab:green', 'tab:orange', 'tab:red']\n",
    "        mylinestyles = ['dashed', 'dashed', 'dashed', 'solid']\n",
    "        mylinewidth = [1.5, 1.5, 1.5, 2.5]\n",
    "        plots = (fpr, tpr, auc)\n",
    "        fig, ax = plt.subplots(1, 1, figsize=(8, 6), dpi=80)\n",
    "\n",
    "        plt.plot(\n",
    "            plots[0], plots[1],\n",
    "            label=f\"AUC = {plots[2]:.3f}\",\n",
    "            color=mycolors[0],\n",
    "            linestyle=mylinestyles[0],\n",
    "            linewidth=mylinewidth[0],\n",
    "        )\n",
    "\n",
    "        result['auc'] = plots[2]\n",
    "\n",
    "        plt.ylabel('Signal Eff.')\n",
    "        plt.xlabel('Background InEff.')\n",
    "        plt.legend(loc=4)\n",
    "        plt.show()\n",
    "        # fig.savefig(os.path.join(out_d, 'roc.svg'), format='svg')\n",
    "\n",
    "    \"\"\"\n",
    "    Significance Curve\n",
    "    \"\"\"\n",
    "    sig_score = scores[np.where(labels==1)]\n",
    "    bkg_score = scores[np.where(labels==0)]\n",
    "    sig_weight, bkg_weight = np.ones(len(sig_score)), np.ones(len(bkg_score))\n",
    "    if weight is not None:\n",
    "        sig_weight = weight[np.where(labels==1)]\n",
    "        bkg_weight = weight[np.where(labels==0)]\n",
    "\n",
    "    bins = np.linspace(-1, 1, num=200, endpoint=True)\n",
    "    hist_sig, _ = np.histogram(sig_score, bins=bins, weights=sig_weight)\n",
    "    hist_bkg, _ = np.histogram(bkg_score, bins=bins, weights=bkg_weight)\n",
    "    s = np.cumsum(hist_sig[::-1])[::-1]\n",
    "    b = np.cumsum(hist_bkg[::-1])[::-1]\n",
    "\n",
    "\n",
    "    sig_err = np.sqrt(np.histogram(sig_score, bins=bins, weights=sig_weight ** 2)[0])\n",
    "    \"\"\"\n",
    "    WHY? WAITING TO BE CHECKED!\n",
    "    \"\"\"\n",
    "    bkg_err = np.sqrt(np.histogram(sig_score, bins=bins, weights=sig_weight ** 2)[0])\n",
    "    s_err = np.sqrt(np.cumsum(sig_err[::-1] ** 2)[::-1])\n",
    "    b_err = np.sqrt(np.cumsum(bkg_err[::-1] ** 2)[::-1])\n",
    "\n",
    "    significance = (s / np.sqrt(s + b))\n",
    "    significance[np.isnan(significance)] = 0\n",
    "\n",
    "    def sig_unc(s, b, ds, db):\n",
    "        t1 = ((np.sqrt(s + b) - s / (2 * np.sqrt(s + b))) / (s + b) * ds) ** 2\n",
    "        t2 = (-(s * 1. / (2 * np.sqrt(s + b)) / (s + b)) * db) ** 2\n",
    "        return np.sqrt(t1 + t2)\n",
    "\n",
    "    significance_err = sig_unc(s, b, s_err, b_err)\n",
    "    significance_err[np.isnan(significance_err)] = 0\n",
    "    significance_with_min_bkg = max([(y, x) for x, y in enumerate(significance) if b[x] > 1.0])\n",
    "\n",
    "    result['significance'] = significance_with_min_bkg[0]\n",
    "    result['significance_no_protect'] = max(significance)\n",
    "    result['mva_score'] = bins[1 + significance_with_min_bkg[1]]\n",
    "    result['mva_score_no_protect'] = bins[1 + np.argmax(significance)]\n",
    "\n",
    "\n",
    "    if do_plot:\n",
    "        fig, ax = plt.subplots(1, 1, figsize=(8, 6), dpi=80)\n",
    "        plt.plot(bins[1:], significance, color='#3776ab')\n",
    "        plt.fill_between(\n",
    "            bins[1:], significance - significance_err, significance + significance_err, alpha=0.35,\n",
    "            edgecolor='#3776ab', facecolor='#3776ab', hatch='///', linewidth=0, interpolate=True\n",
    "        )\n",
    "\n",
    "        plt.vlines(\n",
    "            x=result['mva_score'], ymin=0, ymax=result['significance'],\n",
    "            colors='purple',\n",
    "            label=f'max Sig. = {result[\"significance\"]:.3f} at {result[\"mva_score\"]:.2f}'\n",
    "        )\n",
    "\n",
    "        plt.ylabel('Significance')\n",
    "        plt.xlabel('MVA score')\n",
    "        plt.legend(loc=3)\n",
    "        plt.show()\n",
    "        # fig.savefig(os.path.join(out_d, 'sig.svg'), format='svg')\n",
    "\n",
    "    return result\n",
    "\n",
    "\n",
    "label = dataset['dtest'].get_label()\n",
    "eval_scores(preds, label)"
   ]
  },
  {
   "cell_type": "code",
   "execution_count": 29,
   "metadata": {
    "collapsed": false
   },
   "outputs": [],
   "source": [
    "# preds\n",
    "label = dataset['dtest'].get_label()\n",
    "fpr, tpr, thresholds = skm.roc_curve(label, preds, pos_label=1)\n",
    "# skm.roc_curve(label, preds, pos_label=1)"
   ]
  },
  {
   "cell_type": "code",
   "execution_count": 6,
   "metadata": {
    "collapsed": false
   },
   "outputs": [],
   "source": [
    "to_save = pd.DataFrame({'a':np.arange(10), 'b':np.arange(10,20)})\n",
    "preds = np.random.rand(10)\n",
    "with ur.recreate(os.path.join('test.root')) as f:\n",
    "    to_save['scores'] = preds\n",
    "    f[\"mytree\"] = to_save"
   ]
  }
 ],
 "metadata": {
  "kernelspec": {
   "display_name": "Python 3.9.16 ('xgboost': conda)",
   "language": "python",
   "name": "python3"
  },
  "language_info": {
   "codemirror_mode": {
    "name": "ipython",
    "version": 3
   },
   "file_extension": ".py",
   "mimetype": "text/x-python",
   "name": "python",
   "nbconvert_exporter": "python",
   "pygments_lexer": "ipython3",
   "version": "3.9.16"
  },
  "vscode": {
   "interpreter": {
    "hash": "10306d01cdb7ce11755d707def44b3b99a9059de7d04bef91b36a2aa8e3ed334"
   }
  }
 },
 "nbformat": 4,
 "nbformat_minor": 1
}
