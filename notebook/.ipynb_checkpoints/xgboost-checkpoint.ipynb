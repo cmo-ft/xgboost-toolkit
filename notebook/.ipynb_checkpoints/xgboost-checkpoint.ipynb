{
 "cells": [
  {
   "cell_type": "markdown",
   "metadata": {},
   "source": [
    "# Import Package"
   ]
  },
  {
   "cell_type": "code",
   "execution_count": 2,
   "metadata": {
    "pycharm": {
     "is_executing": true
    }
   },
   "outputs": [],
   "source": [
    "# # import ROOT\n",
    "import sys\n",
    "sys.path.append(\"/sw/root_src/myinstall/lib\")\n",
    "# import ROOT\n",
    "# sys.path\n",
    "# import jupyROOT\n"
   ]
  },
  {
   "cell_type": "code",
   "execution_count": 3,
   "metadata": {
    "pycharm": {
     "is_executing": true
    }
   },
   "outputs": [
    {
     "data": {
      "text/plain": [
       "['/home/cmo/jb_dataspell/multilepton/xgboost',\n",
       " '/home/cmo/anaconda3/lib/python39.zip',\n",
       " '/home/cmo/anaconda3/lib/python3.9',\n",
       " '/home/cmo/anaconda3/lib/python3.9/lib-dynload',\n",
       " '',\n",
       " '/home/cmo/anaconda3/lib/python3.9/site-packages',\n",
       " '/home/cmo/anaconda3/lib/python3.9/site-packages/IPython/extensions',\n",
       " '/home/cmo/.ipython',\n",
       " '/sw/root_src/myinstall/lib']"
      ]
     },
     "execution_count": 3,
     "metadata": {},
     "output_type": "execute_result"
    }
   ],
   "source": [
    "# import sys\n",
    "sys.path\n",
    "# os.system('source ~/.bashrc')\n",
    "# import ROOT"
   ]
  },
  {
   "cell_type": "code",
   "execution_count": 4,
   "metadata": {
    "pycharm": {
     "is_executing": true
    }
   },
   "outputs": [
    {
     "data": {
      "text/plain": [
       "2"
      ]
     },
     "execution_count": 4,
     "metadata": {},
     "output_type": "execute_result"
    }
   ],
   "source": [
    "1+1"
   ]
  },
  {
   "cell_type": "code",
   "execution_count": null,
   "metadata": {},
   "outputs": [],
   "source": [
    "import ROOT"
   ]
  }
 ],
 "metadata": {
  "kernelspec": {
   "display_name": "Python 3 (ipykernel)",
   "language": "python",
   "name": "python3"
  },
  "language_info": {
   "codemirror_mode": {
    "name": "ipython",
    "version": 3
   },
   "file_extension": ".py",
   "mimetype": "text/x-python",
   "name": "python",
   "nbconvert_exporter": "python",
   "pygments_lexer": "ipython3",
   "version": "3.9.13"
  }
 },
 "nbformat": 4,
 "nbformat_minor": 1
}
